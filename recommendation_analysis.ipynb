{
 "cells": [
  {
   "cell_type": "markdown",
   "metadata": {},
   "source": [
    "## Setting Up the environment"
   ]
  },
  {
   "cell_type": "code",
   "execution_count": 33,
   "metadata": {},
   "outputs": [
    {
     "name": "stdout",
     "output_type": "stream",
     "text": [
      "Requirement already satisfied: openai==0.28 in /Users/annabellaputridirgo/opt/anaconda3/envs/eecs/lib/python3.10/site-packages (0.28.0)\n",
      "Requirement already satisfied: requests>=2.20 in /Users/annabellaputridirgo/opt/anaconda3/envs/eecs/lib/python3.10/site-packages (from openai==0.28) (2.28.1)\n",
      "Requirement already satisfied: tqdm in /Users/annabellaputridirgo/opt/anaconda3/envs/eecs/lib/python3.10/site-packages (from openai==0.28) (4.65.0)\n",
      "Requirement already satisfied: aiohttp in /Users/annabellaputridirgo/opt/anaconda3/envs/eecs/lib/python3.10/site-packages (from openai==0.28) (3.8.4)\n",
      "Requirement already satisfied: charset-normalizer<3,>=2 in /Users/annabellaputridirgo/opt/anaconda3/envs/eecs/lib/python3.10/site-packages (from requests>=2.20->openai==0.28) (2.0.4)\n",
      "Requirement already satisfied: idna<4,>=2.5 in /Users/annabellaputridirgo/opt/anaconda3/envs/eecs/lib/python3.10/site-packages (from requests>=2.20->openai==0.28) (3.4)\n",
      "Requirement already satisfied: urllib3<1.27,>=1.21.1 in /Users/annabellaputridirgo/opt/anaconda3/envs/eecs/lib/python3.10/site-packages (from requests>=2.20->openai==0.28) (1.26.14)\n",
      "Requirement already satisfied: certifi>=2017.4.17 in /Users/annabellaputridirgo/opt/anaconda3/envs/eecs/lib/python3.10/site-packages (from requests>=2.20->openai==0.28) (2024.2.2)\n",
      "Requirement already satisfied: attrs>=17.3.0 in /Users/annabellaputridirgo/opt/anaconda3/envs/eecs/lib/python3.10/site-packages (from aiohttp->openai==0.28) (22.2.0)\n",
      "Requirement already satisfied: multidict<7.0,>=4.5 in /Users/annabellaputridirgo/opt/anaconda3/envs/eecs/lib/python3.10/site-packages (from aiohttp->openai==0.28) (6.0.4)\n",
      "Requirement already satisfied: async-timeout<5.0,>=4.0.0a3 in /Users/annabellaputridirgo/opt/anaconda3/envs/eecs/lib/python3.10/site-packages (from aiohttp->openai==0.28) (4.0.2)\n",
      "Requirement already satisfied: yarl<2.0,>=1.0 in /Users/annabellaputridirgo/opt/anaconda3/envs/eecs/lib/python3.10/site-packages (from aiohttp->openai==0.28) (1.9.2)\n",
      "Requirement already satisfied: frozenlist>=1.1.1 in /Users/annabellaputridirgo/opt/anaconda3/envs/eecs/lib/python3.10/site-packages (from aiohttp->openai==0.28) (1.4.0)\n",
      "Requirement already satisfied: aiosignal>=1.1.2 in /Users/annabellaputridirgo/opt/anaconda3/envs/eecs/lib/python3.10/site-packages (from aiohttp->openai==0.28) (1.3.1)\n",
      "Note: you may need to restart the kernel to use updated packages.\n"
     ]
    }
   ],
   "source": [
    "%pip install openai==0.28\n",
    "import openai\n",
    "from PyPDF2 import PdfReader\n",
    "import pandas as pd\n",
    "import re"
   ]
  },
  {
   "cell_type": "code",
   "execution_count": 12,
   "metadata": {},
   "outputs": [],
   "source": [
    "openai.api_key = \"\""
   ]
  },
  {
   "cell_type": "markdown",
   "metadata": {},
   "source": [
    "## Extract the PDF file into text"
   ]
  },
  {
   "cell_type": "code",
   "execution_count": 58,
   "metadata": {},
   "outputs": [
    {
     "name": "stdout",
     "output_type": "stream",
     "text": [
      "PersonalStatement\n",
      "MynameisStellaMettaKurniawan(林爱宝）.Iwasbornon30September\n",
      "2001inJakarta,Indonesia.IamcurrentlyathirdyearstudentandItooksciencemajor\n",
      "atSMAMahatmaGandhiHighSchoolandIamexpectedtograduatein2019.Ibelieve\n",
      "bystudyingabroadespeciallyinTaiwan,Iwillbeabletoexperiencedifferentkindsof\n",
      "situationwhichImightnotbeableencounterifIdonotandbecomeindependent.And\n",
      "helpsmetomeetdifferentkindsofpeoplefromallovertheworldwhichwillhelpmeto\n",
      "improvemyknowledgeaboutourcurrentsocietyindifferentplaces.Thosewillhelpme\n",
      "afterifinishmyeducationandemergingtoworkingsociety.\n",
      "Iamveryinterestedintechnologyandunderstandingmobile/computer\n",
      "technologies.Ihavealwayswonderedabouthowcurrenttechnologiesand\n",
      "architecturesthatprovidethenetworkandcommunicationsinfrastructureformobile\n",
      "enabledenterprisecomputersystems.ThecourseinComputerScienceand\n",
      "InformationEngineeringthatImostattractediswhattypeoftechnologyshouldbe\n",
      "usedtosolveabusinessproblemandhowapplicationofgamesandsocial\n",
      "applicationsworksinthisindustry.\n",
      "InhighschoolIhavemaintainedgoodscoresinMathematics,Chemistry,and\n",
      "Physics.Ialsohavebeenranked1stingrade11thereforeIgetachancetorepresent\n",
      "myschoolforNationalMathematicsOlympics.AlsosinceIliketosocialize,Ioftentake\n",
      "partinactivitiesattheschoollikebeingMCinCharityBazaarthatheldinmyschool\n",
      "everyyear,takingpartinstorytellingcompetitionsatschoolandIwinthefirstplace.In\n",
      "schoolIjoinactivityindancethefirsttwoyearsintraditionaldanceandcurrentlyI'min\n",
      "moderndance,Ihavebeeninballetfor5yearswhenIwas7yearsoldthatswhyilovetodancedifferentkindsofdance.Iamalsoactiveinthemonastery“ViharaJakarta\n",
      "DhammacakkaJaya”,Itookpartineveryeventatthemonasteryfromtheageof5until\n",
      "nowandthepast3years,IalsousedtoteachkindergartenkidsinSundaySchoolandI\n",
      "oftenhelpasavolunteerinamonasteryifthereareactivitiesincludesVesakday,the\n",
      "birthdayofthetempleandKathina,Asadhaandetc,alsoIhavewonparittareading\n",
      "competitionsgot4thplaceanddhammapadareadingcompetitiongot1stplace.\n",
      "AllofmyachievementsandexperienceassuremethatIamcapableofgoing\n",
      "ontheundergraduateprogram.Importantly,beingenrolledinoneofthebestcollegein\n",
      "theworldwillreallybeabigpluspointforme.Iunderstandthatsurelytherewillbea\n",
      "highstandardrequiredbythiskindofcollegeandit’snoteasytofulfillallthe\n",
      "requirement,butIwillworkreallyhardtomeetthestandardgiven.IhopeNationalTsing\n",
      "HuaUniversityaswillvieweachapplicationletterfavorablyandcangivemethechance\n",
      "toobtainhighereducationintheuniversity.StudyPlan\n",
      "IamStellaMettaKurniawan（林爱宝）.Ihavebeenveryinterested\n",
      "inthetrendoftechnologysinceHighSchoolandwiththedevelopmentof\n",
      "technology,lamveryinterestedknowinghowthespecificationofphoneor\n",
      "computeraswellasknowinghowtechnologylikethecombinationof\n",
      "hardware,software,bigdata,businessprocessandfunctionswhichcan\n",
      "beusedtoincreaseefficiencyandmanagementofanorganizationor\n",
      "business,andwhatkindofstrategywhichispowerfultogetmuchbetter\n",
      "resultswithtechnology.\n",
      "Ihave2reasonsforchoosingTaiwan.First,isthelivingsociety.\n",
      "Taiwan’speopleareknownfortheirfriendliness,theywilltrytohelpothers\n",
      "evenwhentherearelanguagebarriers.Taiwanisalsoaverysafeplaceto\n",
      "livein,andtransportationsystemsuchastheMRT,whichnotallother\n",
      "countriescouldhave.TheuseofMandarinasanofficiallanguagecanalso\n",
      "improvemyChineseskillsdrastically.AndChinesepeopleinTaiwanhas\n",
      "longbeenknownforthediligenceofitspeople,soIhopeicouldlearngood\n",
      "habitsfromthem.\n",
      "Frommanyuniversitiesintheworld,myfirstchoiceisNationalTsingHuaUniversitybecauseofseveralthings.Firstly,itisoneofthehigh\n",
      "rankeduniversitiesworldwideandfromwhatIheard,therearesomanyof\n",
      "itsalumnushadparticipatedinsomeworldwideinfrastructureproject,soI\n",
      "reallyhopethatIcanlearnmorefromthem.Second,accordingcompanies\n",
      "inTaiwanwhichdevelopwellknownproductssuchasASUSand\n",
      "ACER.That’swhyIameagertostudycomputerscienceandinformation\n",
      "engineeringinNationalTsingHuaUniversity.Duringmystudytime,Iwilltry\n",
      "hardtoperformwell,atleastmeetallthestandardexpectation.\n",
      "Inconclusion,Iamwritingthisletterinthehopeofpursuing\n",
      "advancedstudiesinyouresteemeduniversity.Suchstudies,Ibelieve,are\n",
      "indispensableformyfuturecareerdevelopmentandwillbenefitmeformy\n",
      "wholelife.AftergraduatefromNationalTsingHuaUniversity,Iwillchase\n",
      "mydreamandworktheretoo,AndIamsurethatIamcapabletoobtain\n",
      "goodperformanceduringmystudyatNTHUbecauseitismyown\n",
      "expectationsothatIwillbeabletomotivatemyselftotally.Notconfidently\n",
      "withallofmyeducationalbackgroundandexperiences.\n"
     ]
    }
   ],
   "source": [
    "# Function to extract text from PDF\n",
    "def extract_text_from_pdf(pdf_path):\n",
    "    with open(pdf_path, \"rb\") as file:\n",
    "        reader = PdfReader(file)\n",
    "        text = \"\"\n",
    "        for page in reader.pages:\n",
    "            text += page.extract_text()\n",
    "    return text\n",
    "\n",
    "text = extract_text_from_pdf(\"sample_input3.pdf\")\n",
    "print(text)\n"
   ]
  },
  {
   "cell_type": "markdown",
   "metadata": {},
   "source": [
    "Clean the the /n and /t from the text"
   ]
  },
  {
   "cell_type": "code",
   "execution_count": 59,
   "metadata": {},
   "outputs": [
    {
     "data": {
      "text/plain": [
       "\"PersonalStatement MynameisStellaMettaKurniawan(林爱宝）.Iwasbornon30September 2001inJakarta,Indonesia.IamcurrentlyathirdyearstudentandItooksciencemajor atSMAMahatmaGandhiHighSchoolandIamexpectedtograduatein2019.Ibelieve bystudyingabroadespeciallyinTaiwan,Iwillbeabletoexperiencedifferentkindsof situationwhichImightnotbeableencounterifIdonotandbecomeindependent.And helpsmetomeetdifferentkindsofpeoplefromallovertheworldwhichwillhelpmeto improvemyknowledgeaboutourcurrentsocietyindifferentplaces.Thosewillhelpme afterifinishmyeducationandemergingtoworkingsociety. Iamveryinterestedintechnologyandunderstandingmobile/computer technologies.Ihavealwayswonderedabouthowcurrenttechnologiesand architecturesthatprovidethenetworkandcommunicationsinfrastructureformobile enabledenterprisecomputersystems.ThecourseinComputerScienceand InformationEngineeringthatImostattractediswhattypeoftechnologyshouldbe usedtosolveabusinessproblemandhowapplicationofgamesandsocial applicationsworksinthisindustry. InhighschoolIhavemaintainedgoodscoresinMathematics,Chemistry,and Physics.Ialsohavebeenranked1stingrade11thereforeIgetachancetorepresent myschoolforNationalMathematicsOlympics.AlsosinceIliketosocialize,Ioftentake partinactivitiesattheschoollikebeingMCinCharityBazaarthatheldinmyschool everyyear,takingpartinstorytellingcompetitionsatschoolandIwinthefirstplace.In schoolIjoinactivityindancethefirsttwoyearsintraditionaldanceandcurrentlyI'min moderndance,Ihavebeeninballetfor5yearswhenIwas7yearsoldthatswhyilovetodancedifferentkindsofdance.Iamalsoactiveinthemonastery“ViharaJakarta DhammacakkaJaya”,Itookpartineveryeventatthemonasteryfromtheageof5until nowandthepast3years,IalsousedtoteachkindergartenkidsinSundaySchoolandI oftenhelpasavolunteerinamonasteryifthereareactivitiesincludesVesakday,the birthdayofthetempleandKathina,Asadhaandetc,alsoIhavewonparittareading competitionsgot4thplaceanddhammapadareadingcompetitiongot1stplace. AllofmyachievementsandexperienceassuremethatIamcapableofgoing ontheundergraduateprogram.Importantly,beingenrolledinoneofthebestcollegein theworldwillreallybeabigpluspointforme.Iunderstandthatsurelytherewillbea highstandardrequiredbythiskindofcollegeandit’snoteasytofulfillallthe requirement,butIwillworkreallyhardtomeetthestandardgiven.IhopeNationalTsing HuaUniversityaswillvieweachapplicationletterfavorablyandcangivemethechance toobtainhighereducationintheuniversity.StudyPlan IamStellaMettaKurniawan（林爱宝）.Ihavebeenveryinterested inthetrendoftechnologysinceHighSchoolandwiththedevelopmentof technology,lamveryinterestedknowinghowthespecificationofphoneor computeraswellasknowinghowtechnologylikethecombinationof hardware,software,bigdata,businessprocessandfunctionswhichcan beusedtoincreaseefficiencyandmanagementofanorganizationor business,andwhatkindofstrategywhichispowerfultogetmuchbetter resultswithtechnology. Ihave2reasonsforchoosingTaiwan.First,isthelivingsociety. Taiwan’speopleareknownfortheirfriendliness,theywilltrytohelpothers evenwhentherearelanguagebarriers.Taiwanisalsoaverysafeplaceto livein,andtransportationsystemsuchastheMRT,whichnotallother countriescouldhave.TheuseofMandarinasanofficiallanguagecanalso improvemyChineseskillsdrastically.AndChinesepeopleinTaiwanhas longbeenknownforthediligenceofitspeople,soIhopeicouldlearngood habitsfromthem. Frommanyuniversitiesintheworld,myfirstchoiceisNationalTsingHuaUniversitybecauseofseveralthings.Firstly,itisoneofthehigh rankeduniversitiesworldwideandfromwhatIheard,therearesomanyof itsalumnushadparticipatedinsomeworldwideinfrastructureproject,soI reallyhopethatIcanlearnmorefromthem.Second,accordingcompanies inTaiwanwhichdevelopwellknownproductssuchasASUSand ACER.That’swhyIameagertostudycomputerscienceandinformation engineeringinNationalTsingHuaUniversity.Duringmystudytime,Iwilltry hardtoperformwell,atleastmeetallthestandardexpectation. Inconclusion,Iamwritingthisletterinthehopeofpursuing advancedstudiesinyouresteemeduniversity.Suchstudies,Ibelieve,are indispensableformyfuturecareerdevelopmentandwillbenefitmeformy wholelife.AftergraduatefromNationalTsingHuaUniversity,Iwillchase mydreamandworktheretoo,AndIamsurethatIamcapabletoobtain goodperformanceduringmystudyatNTHUbecauseitismyown expectationsothatIwillbeabletomotivatemyselftotally.Notconfidently withallofmyeducationalbackgroundandexperiences.\""
      ]
     },
     "execution_count": 59,
     "metadata": {},
     "output_type": "execute_result"
    }
   ],
   "source": [
    "# delete the /n and /t from the text\n",
    "def clean_text(text):\n",
    "    text = text.replace(\"\\n\", \" \").replace(\"\\t\", \" \")\n",
    "    return text\n",
    "\n",
    "clean_text(text)"
   ]
  },
  {
   "cell_type": "markdown",
   "metadata": {},
   "source": [
    "## ChatGPT Extraction"
   ]
  },
  {
   "cell_type": "markdown",
   "metadata": {},
   "source": [
    "### 1. Personality Analysis"
   ]
  },
  {
   "cell_type": "code",
   "execution_count": 60,
   "metadata": {},
   "outputs": [
    {
     "name": "stdout",
     "output_type": "stream",
     "text": [
      "Based on Stella Metta Kurniawan's essay, here are 10 keywords that can describe her personality along with explanations for each keyword:\n",
      "\n",
      "1. **Ambitious**: Stella has a clear goal of pursuing higher education abroad and aims to study at one of the best universities in the world. Her desire to excel and take on new challenges demonstrates her ambitious nature.\n",
      "\n",
      "2. **Curious**: Her interest in understanding the specifications and functionalities of technology highlights her curiosity. Stella wants to delve deep into the technical details of mobile and computer technologies.\n",
      "\n",
      "3. **Determined**: Stella shows determination by her commitment to working hard to meet high standards and fulfill all the requirements necessary to get into National Tsing Hua University.\n",
      "\n",
      "4. **Independent**: She believes that studying abroad will help her become independent, suggesting a strong desire to stand on her own and face various situations autonomously.\n",
      "\n",
      "5. **Sociable**: Stella enjoys socializing and takes part in various school activities such as being an MC, participating in storytelling competitions, and dancing. This indicates she is outgoing and enjoys engaging with others.\n",
      "\n",
      "6. **Diligent**: Her consistently good scores in Mathematics, Chemistry, and Physics, and her participation in the National Mathematics Olympics, showcase her hard work and diligence in her studies.\n",
      "\n",
      "7. **Versatile**: Stella has diverse interests ranging from technical fields like Computer Science to cultural activities like traditional and modern dance. This variety indicates her versatile nature.\n",
      "\n",
      "8. **Community-Oriented**: Her active involvement in the monastery and volunteering activities reflect her commitment to her community and her desire to contribute positively.\n",
      "\n",
      "9. **Resilient**: Despite various challenges, Stella remains focused on her goals and continuously achieves her targets, indicating resilience in her character.\n",
      "\n",
      "10. **Proactive**: Stella takes the initiative in her learning and activities, like representing her school in competitions and teaching kindergarten kids, showing she’s proactive and takes charge of her development.\n",
      "\n",
      "These keywords collectively paint a picture of Stella as a determined, ambitious, and versatile individual, focused on personal growth, community involvement, and achieving academic excellence.\n"
     ]
    }
   ],
   "source": [
    "def gpt_extract_personality(statement):\n",
    "    response = openai.ChatCompletion.create(\n",
    "        model=\"gpt-4o\",  # Use the appropriate model name\n",
    "        messages=[\n",
    "            {\"role\": \"system\", \"content\": \"Find out 10 keywords that describe this person personality based on their essay and generate the explanation of each personality based on the content, if the content is in chinese then the output should be in chinese, if the content is in english then the output should be in english.\"},\n",
    "            {\"role\": \"user\", \"content\": statement},\n",
    "        ]\n",
    "    )\n",
    "\n",
    "    # Extract the assistant's reply\n",
    "    assistant_reply = response['choices'][0]['message']['content']\n",
    "    return assistant_reply\n",
    "\n",
    "\n",
    "personality_output = gpt_extract_personality(text)\n",
    "print(personality_output)"
   ]
  },
  {
   "cell_type": "markdown",
   "metadata": {},
   "source": [
    "### Save Output to Excel"
   ]
  },
  {
   "cell_type": "code",
   "execution_count": 61,
   "metadata": {},
   "outputs": [
    {
     "name": "stdout",
     "output_type": "stream",
     "text": [
      "[]\n"
     ]
    }
   ],
   "source": [
    "# Function to parse the text output\n",
    "def parse_personality_text(text):\n",
    "    pattern = re.compile(r'\\d+\\.\\s\\*\\*(.*?)\\*\\*\\s-\\s(.*?)\\n')\n",
    "    matches = pattern.findall(text)\n",
    "    return matches\n",
    "\n",
    "# Parse the text output\n",
    "parsed_data = parse_personality_text(personality_output)\n",
    "\n",
    "print(parsed_data)\n"
   ]
  },
  {
   "cell_type": "code",
   "execution_count": 62,
   "metadata": {},
   "outputs": [
    {
     "name": "stdout",
     "output_type": "stream",
     "text": [
      "['Ambitious', 'Curious', 'Determined', 'Independent', 'Sociable', 'Diligent', 'Versatile', 'Community-Oriented', 'Resilient', 'Proactive']\n"
     ]
    }
   ],
   "source": [
    "import re\n",
    "personality_keywords = re.findall(r\"\\*\\*(.*?)\\*\\*\", personality_output)\n",
    "\n",
    "print(personality_keywords)"
   ]
  }
 ],
 "metadata": {
  "kernelspec": {
   "display_name": "eecs",
   "language": "python",
   "name": "python3"
  },
  "language_info": {
   "codemirror_mode": {
    "name": "ipython",
    "version": 3
   },
   "file_extension": ".py",
   "mimetype": "text/x-python",
   "name": "python",
   "nbconvert_exporter": "python",
   "pygments_lexer": "ipython3",
   "version": "3.10.9"
  }
 },
 "nbformat": 4,
 "nbformat_minor": 2
}
